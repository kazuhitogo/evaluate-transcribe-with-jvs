{
 "cells": [
  {
   "cell_type": "markdown",
   "metadata": {},
   "source": [
    "# 概要\n",
    "* 1_data_preparationで実行した、S3にアップロードした音声ファイルに対してtranscribeで文字起こしを行う"
   ]
  },
  {
   "cell_type": "code",
   "execution_count": null,
   "metadata": {},
   "outputs": [],
   "source": [
    "import boto3\n",
    "import pandas as pd\n",
    "from time import sleep\n",
    "client = boto3.client('transcribe')"
   ]
  },
  {
   "cell_type": "code",
   "execution_count": null,
   "metadata": {},
   "outputs": [],
   "source": [
    "# 定数\n",
    "# 音声ファイル格納バケット（INPUT)と、文字起こし結果出力バケット（OUTPUT)\n",
    "INPUT_BUCKET_NAME = 'transcribe-input-bucket-202004161130'\n",
    "OUTPUT_BACKET_NAME = 'transcribe-output-bucket-202004161130'"
   ]
  },
  {
   "cell_type": "code",
   "execution_count": null,
   "metadata": {},
   "outputs": [],
   "source": [
    "# resume 用の処理管理変数\n",
    "# statusがTrueならジョブを実行させたことになる\n",
    "file_list = list(pd.read_csv('./label.csv')['file_name'].values)\n",
    "status = [False] * len(file_list)"
   ]
  },
  {
   "cell_type": "code",
   "execution_count": null,
   "metadata": {},
   "outputs": [],
   "source": [
    "input_bucket = 's3://' + INPUT_BUCKET_NAME + '/'\n",
    "output_bucket = OUTPUT_BACKET_NAME"
   ]
  },
  {
   "cell_type": "code",
   "execution_count": null,
   "metadata": {},
   "outputs": [],
   "source": [
    "# 途中で失敗したときの resume 用処理\n",
    "file_list = file_list[status.index(False):]\n",
    "\n",
    "for i,file in enumerate(file_list):\n",
    "    # ジョブ名は使いまわしのため、すでにある場合は削除する\n",
    "    # get_transcription_jobはjob名が存在しない場合はエラーを吐くのでtry-exceptを利用\n",
    "    try:\n",
    "        job_name = client.get_transcription_job(\n",
    "            TranscriptionJobName = file\n",
    "        )['TranscriptionJob']['TranscriptionJobName']\n",
    "        client.delete_transcription_job(TranscriptionJobName=job_name)\n",
    "    except:\n",
    "        pass\n",
    "    # transcription_job\n",
    "    response = client.start_transcription_job(\n",
    "        TranscriptionJobName=file,\n",
    "        Media={\n",
    "            'MediaFileUri':input_bucket + file\n",
    "        },\n",
    "        MediaFormat='wav',\n",
    "        LanguageCode='ja-JP',\n",
    "        OutputBucketName= output_bucket\n",
    "    )\n",
    "    status[i] = True\n",
    "    # APIを20回たたくごとに40秒のsleepを入れる\n",
    "    # APIはサービスクオータが、緩和無しだとAPI同時実行数100で制限しているため、1ジョブ60分として、なんとなく20回で30秒のsleep\n",
    "    if i%20==19:\n",
    "        print(i)\n",
    "        sleep(40)"
   ]
  },
  {
   "cell_type": "code",
   "execution_count": null,
   "metadata": {},
   "outputs": [],
   "source": []
  }
 ],
 "metadata": {
  "kernelspec": {
   "display_name": "conda_python3",
   "language": "python",
   "name": "conda_python3"
  },
  "language_info": {
   "codemirror_mode": {
    "name": "ipython",
    "version": 3
   },
   "file_extension": ".py",
   "mimetype": "text/x-python",
   "name": "python",
   "nbconvert_exporter": "python",
   "pygments_lexer": "ipython3",
   "version": "3.6.10"
  }
 },
 "nbformat": 4,
 "nbformat_minor": 4
}
