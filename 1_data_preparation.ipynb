{
 "cells": [
  {
   "cell_type": "markdown",
   "metadata": {},
   "source": [
    "# 概要\n",
    "* [ JVS ](https://sites.google.com/site/shinnosuketakamichi/research-topics/jvs_corpus)のデータで評価を行う\n",
    "* Amazon Transcribe で文字起こしした結果を Word Error Rate で評価する\n",
    "* まずはデータの準備を行う\n",
    "* 定期的にTranscribeの評価を行う場合はこのノートブックは初回のみ実行するだけでよい\n",
    "\n",
    "# このノートブックの成果物\n",
    "* 文字起こしをしたいwavファイル（がS3に置かれる）\n",
    "* wavファイル名と正解の文字起こしデータのcsv（がローカルにおかれる）"
   ]
  },
  {
   "cell_type": "code",
   "execution_count": 1,
   "metadata": {},
   "outputs": [],
   "source": [
    "# 定数\n",
    "\n",
    "# 音声ファイルを配置するバケット名\n",
    "BUCKET_NAME = 'transcribe-input-bucket-202004161130'"
   ]
  },
  {
   "cell_type": "code",
   "execution_count": null,
   "metadata": {},
   "outputs": [
    {
     "name": "stdout",
     "output_type": "stream",
     "text": [
      "  % Total    % Received % Xferd  Average Speed   Time    Time     Time  Current\n",
      "                                 Dload  Upload   Total   Spent    Left  Speed\n",
      "100   408    0   408    0     0   1159      0 --:--:-- --:--:-- --:--:--  1159\n",
      "  0     0    0     0    0     0      0      0 --:--:-- --:--:-- --:--:--     0\n",
      "  0     0    0     0    0     0      0      0 --:--:-- --:--:-- --:--:--     0\n",
      "  0     0    0     0    0     0      0      0 --:--:--  0:00:01 --:--:--     0"
     ]
    }
   ],
   "source": [
    "# データのダウンロード\n",
    "!chmod 755 ./download.sh\n",
    "!./download.sh"
   ]
  },
  {
   "cell_type": "code",
   "execution_count": null,
   "metadata": {},
   "outputs": [],
   "source": [
    "# ダウンロードしたデータの解凍\n",
    "!unzip audio.zip | head -n10"
   ]
  },
  {
   "cell_type": "code",
   "execution_count": null,
   "metadata": {},
   "outputs": [],
   "source": [
    "# 解凍したファイルとディレクトリ構成のチェック\n",
    "!ls -l jvs_ver1/jvs001/falset10"
   ]
  },
  {
   "cell_type": "code",
   "execution_count": null,
   "metadata": {},
   "outputs": [],
   "source": [
    "!cat jvs_ver1/jvs001/falset10/transcripts_utf8.txt"
   ]
  },
  {
   "cell_type": "code",
   "execution_count": null,
   "metadata": {},
   "outputs": [],
   "source": [
    "!ls -l jvs_ver1/jvs001/falset10/wav24kHz16bit"
   ]
  },
  {
   "cell_type": "markdown",
   "metadata": {},
   "source": [
    "# 中身を見てわかったこと\n",
    "* 文字起こしした結果はあっても音声ファイルのみが存在する場合がある(BASIC5000_1485はラベルだけあって音声がない)\n",
    "* 音声ファイルのみあって文字起こし結果がない場合もある(BASIC5000_1635は音声のみでラベルがない）\n",
    "* 音声ファイルの上のディレクトリにあるtranscripts_utf8.txtに、ファイル名（拡張子なし）と文字起こし結果がコロン区切りで格納されている"
   ]
  },
  {
   "cell_type": "markdown",
   "metadata": {},
   "source": [
    "# ファイルパスの前処理\n",
    "* Transcribeの特性上、job名.jsonでoutputバケット直下に結果が出力される\n",
    "* job名にスラッシュが使えないため、audioファイルをすべてディレクトリ直下に配置し、inputバケット直下にコピーし、ファイル名をジョブ名とする\n",
    "* 併せて、ラベルデータとファイル名のペアをcsvで作成する"
   ]
  },
  {
   "cell_type": "code",
   "execution_count": null,
   "metadata": {},
   "outputs": [],
   "source": [
    "# 指定ディレクトリ以下を深さ優先探索する関数\n",
    "import os\n",
    "def find_all_files(directory):\n",
    "    for root, dirs, files in os.walk(directory):\n",
    "        yield root\n",
    "        for file in files:\n",
    "            yield os.path.join(root, file)"
   ]
  },
  {
   "cell_type": "code",
   "execution_count": null,
   "metadata": {},
   "outputs": [],
   "source": [
    "# 音声ファイルと文字起こしテキストのリストを取得\n",
    "wav_file_path_list = []\n",
    "transcribe_utf8_list = []\n",
    "for file in find_all_files('./jvs_ver1/'):\n",
    "    if '.wav' in file:\n",
    "        wav_file_path_list.append(file)\n",
    "    elif 'transcripts_utf8.txt' in file:\n",
    "        transcribe_utf8_list.append(file)\n",
    "wav_file_path_list = sorted(wav_file_path_list)\n",
    "transcribe_utf8_list = sorted(transcribe_utf8_list)\n",
    "print(wav_file_path_list[:10])\n",
    "print(transcribe_utf8_list[:10])"
   ]
  },
  {
   "cell_type": "code",
   "execution_count": null,
   "metadata": {},
   "outputs": [],
   "source": [
    "# 音声ファイルリストから move 先のファイル名を生成する\n",
    "wav_file_name_list = []\n",
    "for wav_file in wav_file_path_list:\n",
    "    file_name = wav_file.split('/')\n",
    "    file_name = file_name[2] + '--' + file_name[3] + '--' + file_name[5]\n",
    "    wav_file_name_list.append(file_name)\n",
    "wav_file_name_list = sorted(wav_file_name_list)\n",
    "print(wav_file_name_list[:10])"
   ]
  },
  {
   "cell_type": "markdown",
   "metadata": {},
   "source": [
    "# transcripts_utf8.txtの整形\n",
    "* wav_file_name_list に合わせた形で文字起こしデータを作成する"
   ]
  },
  {
   "cell_type": "code",
   "execution_count": null,
   "metadata": {},
   "outputs": [],
   "source": [
    "transcript_data_list = []\n",
    "transcript_file_name_list = []\n",
    "for path in transcribe_utf8_list:\n",
    "    with open(path) as f:\n",
    "        fix_path = path.split('/')\n",
    "        fix_path = fix_path[2] + '--' + fix_path[3] + '--'\n",
    "        text = f.read()\n",
    "        lines = text.split('\\n')\n",
    "        for line in lines:\n",
    "            if line == '':\n",
    "                pass\n",
    "            else:\n",
    "                d = line.split(':')\n",
    "                transcript_file_name_list.append(fix_path+d[0]+'.wav')\n",
    "                transcript_data_list.append(d[1])\n",
    "print(transcript_file_name_list[:10])\n",
    "print(transcript_data_list[:10])"
   ]
  },
  {
   "cell_type": "markdown",
   "metadata": {},
   "source": [
    "# 音声ファイルとtranscriptファイルが合致するものだけ残す"
   ]
  },
  {
   "cell_type": "code",
   "execution_count": null,
   "metadata": {},
   "outputs": [],
   "source": [
    "import pandas as pd"
   ]
  },
  {
   "cell_type": "code",
   "execution_count": null,
   "metadata": {},
   "outputs": [],
   "source": [
    "label_temp_df = pd.DataFrame({\n",
    "    'file_name':transcript_file_name_list,\n",
    "    'transcript_data':transcript_data_list\n",
    "})\n",
    "label_temp_df.head()"
   ]
  },
  {
   "cell_type": "code",
   "execution_count": null,
   "metadata": {},
   "outputs": [],
   "source": [
    "wav_df = pd.DataFrame({\n",
    "    'file_path':wav_file_path_list,\n",
    "    'file_name':wav_file_name_list\n",
    "})\n",
    "wav_df.head()"
   ]
  },
  {
   "cell_type": "code",
   "execution_count": null,
   "metadata": {},
   "outputs": [],
   "source": [
    "label_df = pd.merge(wav_df, label_temp_df)\n",
    "label_df.head()\n",
    "print(len(label_df))"
   ]
  },
  {
   "cell_type": "markdown",
   "metadata": {},
   "source": [
    "# 音声ファイルとtranscript_dataが一致していないものを除外する\n",
    "* 一部ずれているファイルがあるので除外\n",
    "* NGリストを別途準備した"
   ]
  },
  {
   "cell_type": "code",
   "execution_count": null,
   "metadata": {},
   "outputs": [],
   "source": [
    "with open('./NG_list.txt') as f:\n",
    "    NG_list = f.readlines()\n",
    "    for NG_txt in NG_list:\n",
    "        NG_txt = NG_txt.replace('\\n','')\n",
    "        label_df.drop(label_df[label_df['file_name'] == NG_txt].index, inplace=True)\n",
    "label_df = label_df.reset_index()[['file_path','file_name','transcript_data']]"
   ]
  },
  {
   "cell_type": "code",
   "execution_count": null,
   "metadata": {},
   "outputs": [],
   "source": [
    "len(label_temp_df),len(label_df)"
   ]
  },
  {
   "cell_type": "code",
   "execution_count": null,
   "metadata": {},
   "outputs": [],
   "source": [
    "# 音声ファイルをリネーム（コピーだけど）して保存するフォルダを用意\n",
    "!mkdir -p wav"
   ]
  },
  {
   "cell_type": "code",
   "execution_count": null,
   "metadata": {},
   "outputs": [],
   "source": [
    "import shutil\n",
    "\n",
    "# ファイルを移動\n",
    "for i,r in label_df.iterrows():\n",
    "    src = r[0]\n",
    "    dest = './wav/' + r[1]\n",
    "    shutil.copyfile(src,dest)"
   ]
  },
  {
   "cell_type": "code",
   "execution_count": null,
   "metadata": {},
   "outputs": [],
   "source": [
    "label_df.to_csv('./label.csv',index=False)"
   ]
  },
  {
   "cell_type": "code",
   "execution_count": null,
   "metadata": {},
   "outputs": [],
   "source": [
    "pd.read_csv('./label.csv').head()"
   ]
  },
  {
   "cell_type": "code",
   "execution_count": null,
   "metadata": {},
   "outputs": [],
   "source": [
    "# S3にアップロード\n",
    "import boto3\n",
    "resource = boto3.resource('s3')\n",
    "bucket = resource.Bucket(BUCKET_NAME)"
   ]
  },
  {
   "cell_type": "code",
   "execution_count": null,
   "metadata": {},
   "outputs": [],
   "source": [
    "for file in list(label_df['file_name'].values):\n",
    "    src = './wav/' + file\n",
    "    bucket.upload_file(src,file)"
   ]
  },
  {
   "cell_type": "code",
   "execution_count": null,
   "metadata": {},
   "outputs": [],
   "source": [
    "len(pd.read_csv('./label.csv'))"
   ]
  },
  {
   "cell_type": "code",
   "execution_count": null,
   "metadata": {},
   "outputs": [],
   "source": []
  }
 ],
 "metadata": {
  "kernelspec": {
   "display_name": "conda_python3",
   "language": "python",
   "name": "conda_python3"
  },
  "language_info": {
   "codemirror_mode": {
    "name": "ipython",
    "version": 3
   },
   "file_extension": ".py",
   "mimetype": "text/x-python",
   "name": "python",
   "nbconvert_exporter": "python",
   "pygments_lexer": "ipython3",
   "version": "3.6.10"
  }
 },
 "nbformat": 4,
 "nbformat_minor": 4
}
